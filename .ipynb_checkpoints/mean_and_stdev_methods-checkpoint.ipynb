{
 "cells": [
  {
   "cell_type": "code",
   "execution_count": 1,
   "id": "965a4a52-afed-44b1-bbb4-bc045eab4f18",
   "metadata": {},
   "outputs": [
    {
     "name": "stdout",
     "output_type": "stream",
     "text": [
      "             model  mix_val     wr     tp     fp     fn     fm\n",
      "0            agglo        0  0.841  0.628  0.033  0.320  0.019\n",
      "1     edge_no_time        0  0.823  0.631  0.070  0.254  0.045\n",
      "2   edge_with_time        0  0.891  0.755  0.046  0.181  0.018\n",
      "3       agglo_edge        0  0.911  0.817  0.051  0.118  0.014\n",
      "4         r3b_edge        0  0.823  0.677  0.088  0.163  0.073\n",
      "5              r3b        0  0.804  0.606  0.053  0.252  0.089\n",
      "6            agglo        0  0.841  0.628  0.033  0.320  0.019\n",
      "7     edge_no_time        0  0.823  0.629  0.068  0.259  0.044\n",
      "8   edge_with_time        0  0.893  0.759  0.045  0.179  0.017\n",
      "9       agglo_edge        0  0.912  0.820  0.051  0.114  0.015\n",
      "10        r3b_edge        0  0.824  0.676  0.087  0.165  0.073\n",
      "11             r3b        0  0.804  0.606  0.053  0.252  0.089\n",
      "12           agglo        0  0.841  0.628  0.033  0.320  0.019\n",
      "13    edge_no_time        0  0.822  0.634  0.076  0.244  0.047\n",
      "14  edge_with_time        0  0.892  0.749  0.036  0.200  0.015\n",
      "15      agglo_edge        0  0.910  0.813  0.050  0.121  0.016\n",
      "16        r3b_edge        0  0.824  0.680  0.092  0.157  0.070\n",
      "17             r3b        0  0.804  0.606  0.053  0.252  0.089\n",
      "18           agglo        0  0.841  0.628  0.033  0.320  0.019\n",
      "19    edge_no_time        0  0.823  0.630  0.071  0.252  0.046\n",
      "20  edge_with_time        0  0.892  0.746  0.032  0.208  0.015\n",
      "21      agglo_edge        0  0.912  0.820  0.051  0.113  0.016\n",
      "22        r3b_edge        0  0.823  0.673  0.082  0.166  0.079\n",
      "23             r3b        0  0.804  0.606  0.053  0.252  0.089\n",
      "24           agglo        0  0.841  0.628  0.033  0.320  0.019\n",
      "25    edge_no_time        0  0.823  0.632  0.071  0.251  0.046\n",
      "26  edge_with_time        0  0.894  0.754  0.038  0.193  0.015\n",
      "27      agglo_edge        0  0.911  0.816  0.050  0.118  0.016\n",
      "28        r3b_edge        0  0.824  0.677  0.088  0.160  0.075\n",
      "29             r3b        0  0.804  0.606  0.053  0.252  0.089\n",
      "30           agglo        0  0.841  0.628  0.033  0.320  0.019\n",
      "31    edge_no_time        0  0.823  0.637  0.077  0.239  0.047\n",
      "32  edge_with_time        0  0.893  0.752  0.035  0.198  0.015\n",
      "33      agglo_edge        0  0.911  0.816  0.049  0.120  0.015\n",
      "34        r3b_edge        0  0.823  0.677  0.088  0.161  0.073\n",
      "35             r3b        0  0.804  0.606  0.053  0.252  0.089\n",
      "36           agglo        0  0.841  0.628  0.033  0.320  0.019\n",
      "37    edge_no_time        0  0.823  0.634  0.073  0.246  0.047\n",
      "38  edge_with_time        0  0.892  0.757  0.043  0.182  0.018\n",
      "39      agglo_edge        0  0.910  0.814  0.050  0.121  0.015\n",
      "40        r3b_edge        0  0.823  0.672  0.083  0.167  0.078\n",
      "41             r3b        0  0.804  0.606  0.053  0.252  0.089\n",
      "42           agglo        0  0.841  0.628  0.033  0.320  0.019\n",
      "43    edge_no_time        0  0.824  0.637  0.076  0.240  0.046\n",
      "44  edge_with_time        0  0.892  0.753  0.039  0.192  0.016\n",
      "45      agglo_edge        0  0.912  0.819  0.050  0.115  0.015\n",
      "46        r3b_edge        0  0.823  0.674  0.083  0.166  0.078\n",
      "47             r3b        0  0.804  0.606  0.053  0.252  0.089\n",
      "48           agglo        0  0.841  0.628  0.033  0.320  0.019\n",
      "49    edge_no_time        0  0.822  0.637  0.079  0.236  0.048\n",
      "50  edge_with_time        0  0.893  0.747  0.033  0.205  0.014\n",
      "51      agglo_edge        0  0.912  0.817  0.051  0.117  0.015\n",
      "52        r3b_edge        0  0.824  0.680  0.091  0.158  0.070\n",
      "53             r3b        0  0.804  0.606  0.053  0.252  0.089\n",
      "54           agglo        0  0.841  0.628  0.033  0.320  0.019\n",
      "55    edge_no_time        0  0.824  0.637  0.075  0.243  0.045\n",
      "56  edge_with_time        0  0.893  0.746  0.030  0.211  0.014\n",
      "57      agglo_edge        0  0.910  0.813  0.049  0.123  0.016\n",
      "58        r3b_edge        0  0.823  0.673  0.085  0.168  0.074\n"
     ]
    }
   ],
   "source": [
    "import pandas as pd\n",
    "df = pd.read_csv('optimized_uniform_results.txt')\n",
    "df.columns = [\"model\",\"mix_val\",\"wr\",\"tp\",\"fp\",\"fn\",\"fm\"]\n",
    "print(df)"
   ]
  },
  {
   "cell_type": "markdown",
   "id": "5ecb427e-0f3a-469f-aa0a-fa93cd20fb1d",
   "metadata": {},
   "source": [
    "### edge_no_time_vals"
   ]
  },
  {
   "cell_type": "code",
   "execution_count": 2,
   "id": "cadcc060-7ad2-4fcf-9614-87936d151c63",
   "metadata": {},
   "outputs": [
    {
     "name": "stdout",
     "output_type": "stream",
     "text": [
      "       wr     tp     fp     fn     fm\n",
      "1   0.823  0.631  0.070  0.254  0.045\n",
      "7   0.823  0.629  0.068  0.259  0.044\n",
      "13  0.822  0.634  0.076  0.244  0.047\n",
      "19  0.823  0.630  0.071  0.252  0.046\n",
      "25  0.823  0.632  0.071  0.251  0.046\n",
      "31  0.823  0.637  0.077  0.239  0.047\n",
      "37  0.823  0.634  0.073  0.246  0.047\n",
      "43  0.824  0.637  0.076  0.240  0.046\n",
      "49  0.822  0.637  0.079  0.236  0.048\n",
      "55  0.824  0.637  0.075  0.243  0.045\n"
     ]
    }
   ],
   "source": [
    "edge_no_time = df.loc[df['model'] == \"edge_no_time\"]\n",
    "edge_no_time = edge_no_time.drop([\"model\",\"mix_val\"],axis=1)\n",
    "print(edge_no_time)\n",
    "\n"
   ]
  },
  {
   "cell_type": "code",
   "execution_count": 3,
   "id": "070a9090-2e3b-4712-88d5-3fa4f18ff6e8",
   "metadata": {},
   "outputs": [
    {
     "data": {
      "text/plain": [
       "wr    0.8230\n",
       "tp    0.6338\n",
       "fp    0.0736\n",
       "fn    0.2464\n",
       "fm    0.0461\n",
       "dtype: float64"
      ]
     },
     "execution_count": 3,
     "metadata": {},
     "output_type": "execute_result"
    }
   ],
   "source": [
    "edge_no_time.mean()"
   ]
  },
  {
   "cell_type": "code",
   "execution_count": 4,
   "id": "1d31d029-4951-4f2f-a3c3-c5d4645e0b06",
   "metadata": {},
   "outputs": [
    {
     "data": {
      "text/plain": [
       "wr    0.000667\n",
       "tp    0.003155\n",
       "fp    0.003534\n",
       "fn    0.007382\n",
       "fm    0.001197\n",
       "dtype: float64"
      ]
     },
     "execution_count": 4,
     "metadata": {},
     "output_type": "execute_result"
    }
   ],
   "source": [
    "edge_no_time.std()"
   ]
  },
  {
   "cell_type": "markdown",
   "id": "9124802a-3d68-42ca-8823-fb506f88462d",
   "metadata": {},
   "source": [
    "---"
   ]
  },
  {
   "cell_type": "markdown",
   "id": "2e19de4b-8133-4a84-b537-fd5e8239a27c",
   "metadata": {},
   "source": [
    "### edge_with_time"
   ]
  },
  {
   "cell_type": "code",
   "execution_count": 5,
   "id": "2372a158-7fa8-4565-ac4f-bb31645abb6c",
   "metadata": {},
   "outputs": [
    {
     "name": "stdout",
     "output_type": "stream",
     "text": [
      "       wr     tp     fp     fn     fm\n",
      "1   0.823  0.631  0.070  0.254  0.045\n",
      "7   0.823  0.629  0.068  0.259  0.044\n",
      "13  0.822  0.634  0.076  0.244  0.047\n",
      "19  0.823  0.630  0.071  0.252  0.046\n",
      "25  0.823  0.632  0.071  0.251  0.046\n",
      "31  0.823  0.637  0.077  0.239  0.047\n",
      "37  0.823  0.634  0.073  0.246  0.047\n",
      "43  0.824  0.637  0.076  0.240  0.046\n",
      "49  0.822  0.637  0.079  0.236  0.048\n",
      "55  0.824  0.637  0.075  0.243  0.045\n"
     ]
    }
   ],
   "source": [
    "edge_with_time = df.loc[df['model'] == \"edge_no_time\"]\n",
    "edge_with_time = edge_with_time.drop([\"model\",\"mix_val\"],axis=1)\n",
    "print(edge_with_time)\n"
   ]
  },
  {
   "cell_type": "code",
   "execution_count": 6,
   "id": "84c556d7-fa89-4d80-ae50-e2a999a274ef",
   "metadata": {},
   "outputs": [
    {
     "data": {
      "text/plain": [
       "wr    0.8230\n",
       "tp    0.6338\n",
       "fp    0.0736\n",
       "fn    0.2464\n",
       "fm    0.0461\n",
       "dtype: float64"
      ]
     },
     "execution_count": 6,
     "metadata": {},
     "output_type": "execute_result"
    }
   ],
   "source": [
    "edge_with_time.mean()"
   ]
  },
  {
   "cell_type": "code",
   "execution_count": 7,
   "id": "240f064c-f190-416f-8a98-df769e7c5795",
   "metadata": {},
   "outputs": [
    {
     "data": {
      "text/plain": [
       "wr    0.000667\n",
       "tp    0.003155\n",
       "fp    0.003534\n",
       "fn    0.007382\n",
       "fm    0.001197\n",
       "dtype: float64"
      ]
     },
     "execution_count": 7,
     "metadata": {},
     "output_type": "execute_result"
    }
   ],
   "source": [
    "edge_with_time.std()"
   ]
  },
  {
   "cell_type": "markdown",
   "id": "739c22e5-1b7a-4ec4-901b-dc8b4e8b227c",
   "metadata": {},
   "source": [
    "---"
   ]
  },
  {
   "cell_type": "markdown",
   "id": "e6dbd159-5ac7-4fd8-bedc-380a98c98dc1",
   "metadata": {},
   "source": [
    "###  Agglo + Edge"
   ]
  },
  {
   "cell_type": "code",
   "execution_count": 8,
   "id": "58a104d4-1aff-4180-afeb-4bee2d8bb52f",
   "metadata": {},
   "outputs": [
    {
     "name": "stdout",
     "output_type": "stream",
     "text": [
      "       wr     tp     fp     fn     fm\n",
      "3   0.911  0.817  0.051  0.118  0.014\n",
      "9   0.912  0.820  0.051  0.114  0.015\n",
      "15  0.910  0.813  0.050  0.121  0.016\n",
      "21  0.912  0.820  0.051  0.113  0.016\n",
      "27  0.911  0.816  0.050  0.118  0.016\n",
      "33  0.911  0.816  0.049  0.120  0.015\n",
      "39  0.910  0.814  0.050  0.121  0.015\n",
      "45  0.912  0.819  0.050  0.115  0.015\n",
      "51  0.912  0.817  0.051  0.117  0.015\n",
      "57  0.910  0.813  0.049  0.123  0.016\n"
     ]
    }
   ],
   "source": [
    "agglo_edge = df.loc[df['model'] == \"agglo_edge\"]\n",
    "agglo_edge = agglo_edge.drop([\"model\",\"mix_val\"],axis=1)\n",
    "print(agglo_edge)"
   ]
  },
  {
   "cell_type": "code",
   "execution_count": 9,
   "id": "407cd8b0-1cba-4ad6-8300-ff4b949cee36",
   "metadata": {},
   "outputs": [
    {
     "data": {
      "text/plain": [
       "wr    0.9111\n",
       "tp    0.8165\n",
       "fp    0.0502\n",
       "fn    0.1180\n",
       "fm    0.0153\n",
       "dtype: float64"
      ]
     },
     "execution_count": 9,
     "metadata": {},
     "output_type": "execute_result"
    }
   ],
   "source": [
    "agglo_edge.mean()"
   ]
  },
  {
   "cell_type": "code",
   "execution_count": 10,
   "id": "4208d2e8-4cb6-4b7a-8b78-744d1a3bba2b",
   "metadata": {},
   "outputs": [
    {
     "data": {
      "text/plain": [
       "wr    0.000876\n",
       "tp    0.002635\n",
       "fp    0.000789\n",
       "fn    0.003300\n",
       "fm    0.000675\n",
       "dtype: float64"
      ]
     },
     "execution_count": 10,
     "metadata": {},
     "output_type": "execute_result"
    }
   ],
   "source": [
    "agglo_edge.std()"
   ]
  },
  {
   "cell_type": "markdown",
   "id": "37e5b5b6-70d6-49e5-aea9-f7055a7350bb",
   "metadata": {},
   "source": [
    "---"
   ]
  },
  {
   "cell_type": "markdown",
   "id": "cf281860-80fa-4505-9bda-ae0abc05937d",
   "metadata": {},
   "source": [
    "### R3B + Edge"
   ]
  },
  {
   "cell_type": "code",
   "execution_count": 11,
   "id": "7a7face2-f940-44b9-a8b0-84742c56acc1",
   "metadata": {},
   "outputs": [
    {
     "name": "stdout",
     "output_type": "stream",
     "text": [
      "       wr     tp     fp     fn     fm\n",
      "4   0.823  0.677  0.088  0.163  0.073\n",
      "10  0.824  0.676  0.087  0.165  0.073\n",
      "16  0.824  0.680  0.092  0.157  0.070\n",
      "22  0.823  0.673  0.082  0.166  0.079\n",
      "28  0.824  0.677  0.088  0.160  0.075\n",
      "34  0.823  0.677  0.088  0.161  0.073\n",
      "40  0.823  0.672  0.083  0.167  0.078\n",
      "46  0.823  0.674  0.083  0.166  0.078\n",
      "52  0.824  0.680  0.091  0.158  0.070\n",
      "58  0.823  0.673  0.085  0.168  0.074\n"
     ]
    }
   ],
   "source": [
    "r3b_edge = df.loc[df['model'] == \"r3b_edge\"]\n",
    "r3b_edge = r3b_edge.drop([\"model\",\"mix_val\"],axis=1)\n",
    "print(r3b_edge)"
   ]
  },
  {
   "cell_type": "code",
   "execution_count": 12,
   "id": "86d49894-3033-4df8-9d7d-f1105bd0d23b",
   "metadata": {},
   "outputs": [
    {
     "data": {
      "text/plain": [
       "wr    0.8234\n",
       "tp    0.6759\n",
       "fp    0.0867\n",
       "fn    0.1631\n",
       "fm    0.0743\n",
       "dtype: float64"
      ]
     },
     "execution_count": 12,
     "metadata": {},
     "output_type": "execute_result"
    }
   ],
   "source": [
    "r3b_edge.mean()"
   ]
  },
  {
   "cell_type": "code",
   "execution_count": 13,
   "id": "938e12c8-3886-4187-bf98-cb84d107e728",
   "metadata": {},
   "outputs": [
    {
     "data": {
      "text/plain": [
       "wr    0.000516\n",
       "tp    0.002846\n",
       "fp    0.003401\n",
       "fn    0.003900\n",
       "fm    0.003199\n",
       "dtype: float64"
      ]
     },
     "execution_count": 13,
     "metadata": {},
     "output_type": "execute_result"
    }
   ],
   "source": [
    "r3b_edge.std()"
   ]
  },
  {
   "cell_type": "markdown",
   "id": "bd92e3ea-2882-49d3-a019-ad029d11c6e9",
   "metadata": {},
   "source": [
    "---"
   ]
  },
  {
   "cell_type": "code",
   "execution_count": 14,
   "id": "8759f950-b5b0-4d85-9624-3443e753da04",
   "metadata": {},
   "outputs": [],
   "source": [
    "tp_r3b = df.loc[df['model'] == \"r3b\", \"tp\"]"
   ]
  },
  {
   "cell_type": "code",
   "execution_count": 15,
   "id": "6637c9c3-17ce-4fd2-897d-f4c833014084",
   "metadata": {},
   "outputs": [
    {
     "data": {
      "text/plain": [
       "0.606"
      ]
     },
     "execution_count": 15,
     "metadata": {},
     "output_type": "execute_result"
    }
   ],
   "source": [
    "tp_r3b.mean()"
   ]
  },
  {
   "cell_type": "code",
   "execution_count": 16,
   "id": "822d36a8-14b4-47bd-b1b5-6d1658ca2a26",
   "metadata": {},
   "outputs": [
    {
     "data": {
      "text/plain": [
       "0.0"
      ]
     },
     "execution_count": 16,
     "metadata": {},
     "output_type": "execute_result"
    }
   ],
   "source": [
    "tp_r3b.std()"
   ]
  },
  {
   "cell_type": "code",
   "execution_count": 17,
   "id": "4314c44e-a94d-4f51-9a12-302370422c7e",
   "metadata": {},
   "outputs": [],
   "source": [
    "\n",
    "data = {\n",
    "  \"calories\": [420, 380, 390],\n",
    "  \"duration\": [50, 40, 45]\n",
    "}\n",
    "df = pd.DataFrame(data)"
   ]
  },
  {
   "cell_type": "code",
   "execution_count": 18,
   "id": "84a60b57-bbae-43fc-bbbb-5e7100bd09f9",
   "metadata": {},
   "outputs": [
    {
     "name": "stdout",
     "output_type": "stream",
     "text": [
      "   calories  duration\n",
      "0       420        50\n",
      "1       380        40\n",
      "2       390        45\n"
     ]
    }
   ],
   "source": [
    "print(df)\n"
   ]
  },
  {
   "cell_type": "code",
   "execution_count": 19,
   "id": "f9350ad9-d3ed-45de-b045-cb6f8ce973bd",
   "metadata": {},
   "outputs": [],
   "source": [
    "foo = df[\"duration\"]"
   ]
  },
  {
   "cell_type": "code",
   "execution_count": 20,
   "id": "ea6f4995-0bd9-4a55-82fc-2d1490e073b0",
   "metadata": {},
   "outputs": [
    {
     "data": {
      "text/plain": [
       "45.0"
      ]
     },
     "execution_count": 20,
     "metadata": {},
     "output_type": "execute_result"
    }
   ],
   "source": [
    "foo.mean()"
   ]
  },
  {
   "cell_type": "code",
   "execution_count": 21,
   "id": "cd99881d-2f6e-46ba-8c6c-702426033a46",
   "metadata": {},
   "outputs": [
    {
     "data": {
      "text/plain": [
       "5.0"
      ]
     },
     "execution_count": 21,
     "metadata": {},
     "output_type": "execute_result"
    }
   ],
   "source": [
    "foo.std()"
   ]
  },
  {
   "cell_type": "code",
   "execution_count": 22,
   "id": "ad7033c0-ef8e-4479-abf4-d496dd3c60aa",
   "metadata": {},
   "outputs": [
    {
     "data": {
      "text/plain": [
       "50"
      ]
     },
     "execution_count": 22,
     "metadata": {},
     "output_type": "execute_result"
    }
   ],
   "source": [
    "25+25\n"
   ]
  },
  {
   "cell_type": "code",
   "execution_count": 23,
   "id": "cb35c408-125e-49f7-90a7-d966aa318371",
   "metadata": {},
   "outputs": [
    {
     "data": {
      "text/plain": [
       "16.666666666666668"
      ]
     },
     "execution_count": 23,
     "metadata": {},
     "output_type": "execute_result"
    }
   ],
   "source": [
    "50./3.\n"
   ]
  },
  {
   "cell_type": "code",
   "execution_count": 24,
   "id": "bf1a05b2-caaa-487f-9614-c0e7d9968e50",
   "metadata": {},
   "outputs": [],
   "source": [
    "import math"
   ]
  },
  {
   "cell_type": "code",
   "execution_count": 25,
   "id": "f99dc8b4-fd2d-47e7-8871-e8c8d872385b",
   "metadata": {},
   "outputs": [
    {
     "data": {
      "text/plain": [
       "4.08248290463863"
      ]
     },
     "execution_count": 25,
     "metadata": {},
     "output_type": "execute_result"
    }
   ],
   "source": [
    "math.sqrt(50./3)"
   ]
  },
  {
   "cell_type": "code",
   "execution_count": null,
   "id": "e2da86ed-5193-4530-90d3-fd4334ed9213",
   "metadata": {},
   "outputs": [],
   "source": []
  }
 ],
 "metadata": {
  "kernelspec": {
   "display_name": "Python 3 (ipykernel)",
   "language": "python",
   "name": "python3"
  },
  "language_info": {
   "codemirror_mode": {
    "name": "ipython",
    "version": 3
   },
   "file_extension": ".py",
   "mimetype": "text/x-python",
   "name": "python",
   "nbconvert_exporter": "python",
   "pygments_lexer": "ipython3",
   "version": "3.10.12"
  }
 },
 "nbformat": 4,
 "nbformat_minor": 5
}
