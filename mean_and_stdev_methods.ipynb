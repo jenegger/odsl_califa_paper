{
 "cells": [
  {
   "cell_type": "code",
   "execution_count": 1,
   "id": "7ed6483f",
   "metadata": {},
   "outputs": [
    {
     "name": "stdout",
     "output_type": "stream",
     "text": [
      "             model  mix_val     wr     tp     fp     fn     fm\n",
      "0            agglo        0  0.841  0.628  0.033  0.320  0.019\n",
      "1     edge_no_time        0  0.823  0.631  0.070  0.254  0.045\n",
      "2   edge_with_time        0  0.891  0.755  0.046  0.181  0.018\n",
      "3       agglo_edge        0  0.911  0.817  0.051  0.118  0.014\n",
      "4         r3b_edge        0  0.823  0.677  0.088  0.163  0.073\n",
      "5              r3b        0  0.804  0.606  0.053  0.252  0.089\n",
      "6            agglo        0  0.841  0.628  0.033  0.320  0.019\n",
      "7     edge_no_time        0  0.823  0.629  0.068  0.259  0.044\n",
      "8   edge_with_time        0  0.893  0.759  0.045  0.179  0.017\n",
      "9       agglo_edge        0  0.912  0.820  0.051  0.114  0.015\n",
      "10        r3b_edge        0  0.824  0.676  0.087  0.165  0.073\n",
      "11             r3b        0  0.804  0.606  0.053  0.252  0.089\n",
      "12           agglo        0  0.841  0.628  0.033  0.320  0.019\n",
      "13    edge_no_time        0  0.822  0.634  0.076  0.244  0.047\n",
      "14  edge_with_time        0  0.892  0.749  0.036  0.200  0.015\n",
      "15      agglo_edge        0  0.910  0.813  0.050  0.121  0.016\n",
      "16        r3b_edge        0  0.824  0.680  0.092  0.157  0.070\n",
      "17             r3b        0  0.804  0.606  0.053  0.252  0.089\n",
      "18           agglo        0  0.841  0.628  0.033  0.320  0.019\n",
      "19    edge_no_time        0  0.823  0.630  0.071  0.252  0.046\n",
      "20  edge_with_time        0  0.892  0.746  0.032  0.208  0.015\n",
      "21      agglo_edge        0  0.912  0.820  0.051  0.113  0.016\n",
      "22        r3b_edge        0  0.823  0.673  0.082  0.166  0.079\n",
      "23             r3b        0  0.804  0.606  0.053  0.252  0.089\n",
      "24           agglo        0  0.841  0.628  0.033  0.320  0.019\n",
      "25    edge_no_time        0  0.823  0.632  0.071  0.251  0.046\n",
      "26  edge_with_time        0  0.894  0.754  0.038  0.193  0.015\n",
      "27      agglo_edge        0  0.911  0.816  0.050  0.118  0.016\n",
      "28        r3b_edge        0  0.824  0.677  0.088  0.160  0.075\n",
      "29             r3b        0  0.804  0.606  0.053  0.252  0.089\n",
      "30           agglo        0  0.841  0.628  0.033  0.320  0.019\n",
      "31    edge_no_time        0  0.823  0.637  0.077  0.239  0.047\n",
      "32  edge_with_time        0  0.893  0.752  0.035  0.198  0.015\n",
      "33      agglo_edge        0  0.911  0.816  0.049  0.120  0.015\n",
      "34        r3b_edge        0  0.823  0.677  0.088  0.161  0.073\n",
      "35             r3b        0  0.804  0.606  0.053  0.252  0.089\n",
      "36           agglo        0  0.841  0.628  0.033  0.320  0.019\n",
      "37    edge_no_time        0  0.823  0.634  0.073  0.246  0.047\n",
      "38  edge_with_time        0  0.892  0.757  0.043  0.182  0.018\n",
      "39      agglo_edge        0  0.910  0.814  0.050  0.121  0.015\n",
      "40        r3b_edge        0  0.823  0.672  0.083  0.167  0.078\n",
      "41             r3b        0  0.804  0.606  0.053  0.252  0.089\n",
      "42           agglo        0  0.841  0.628  0.033  0.320  0.019\n",
      "43    edge_no_time        0  0.824  0.637  0.076  0.240  0.046\n",
      "44  edge_with_time        0  0.892  0.753  0.039  0.192  0.016\n",
      "45      agglo_edge        0  0.912  0.819  0.050  0.115  0.015\n",
      "46        r3b_edge        0  0.823  0.674  0.083  0.166  0.078\n",
      "47             r3b        0  0.804  0.606  0.053  0.252  0.089\n",
      "48           agglo        0  0.841  0.628  0.033  0.320  0.019\n",
      "49    edge_no_time        0  0.822  0.637  0.079  0.236  0.048\n",
      "50  edge_with_time        0  0.893  0.747  0.033  0.205  0.014\n",
      "51      agglo_edge        0  0.912  0.817  0.051  0.117  0.015\n",
      "52        r3b_edge        0  0.824  0.680  0.091  0.158  0.070\n",
      "53             r3b        0  0.804  0.606  0.053  0.252  0.089\n",
      "54           agglo        0  0.841  0.628  0.033  0.320  0.019\n",
      "55    edge_no_time        0  0.824  0.637  0.075  0.243  0.045\n",
      "56  edge_with_time        0  0.893  0.746  0.030  0.211  0.014\n",
      "57      agglo_edge        0  0.910  0.813  0.049  0.123  0.016\n",
      "58        r3b_edge        0  0.823  0.673  0.085  0.168  0.074\n"
     ]
    }
   ],
   "source": [
    "import pandas as pd\n",
    "import matplotlib.pyplot as plt\n",
    "import matplotlib.ticker as ticker\n",
    "import numpy as np\n",
    "df = pd.read_csv('optimized_uniform_results.txt')\n",
    "df.columns = [\"model\",\"mix_val\",\"wr\",\"tp\",\"fp\",\"fn\",\"fm\"]\n",
    "print(df)"
   ]
  },
  {
   "cell_type": "markdown",
   "id": "d9d3f66a",
   "metadata": {},
   "source": [
    "### edge_no_time_vals"
   ]
  },
  {
   "cell_type": "code",
   "execution_count": 2,
   "id": "b30fb56f",
   "metadata": {},
   "outputs": [
    {
     "name": "stdout",
     "output_type": "stream",
     "text": [
      "       wr     tp     fp     fn     fm\n",
      "1   0.823  0.631  0.070  0.254  0.045\n",
      "7   0.823  0.629  0.068  0.259  0.044\n",
      "13  0.822  0.634  0.076  0.244  0.047\n",
      "19  0.823  0.630  0.071  0.252  0.046\n",
      "25  0.823  0.632  0.071  0.251  0.046\n",
      "31  0.823  0.637  0.077  0.239  0.047\n",
      "37  0.823  0.634  0.073  0.246  0.047\n",
      "43  0.824  0.637  0.076  0.240  0.046\n",
      "49  0.822  0.637  0.079  0.236  0.048\n",
      "55  0.824  0.637  0.075  0.243  0.045\n"
     ]
    }
   ],
   "source": [
    "edge_no_time = df.loc[df['model'] == \"edge_no_time\"]\n",
    "edge_no_time = edge_no_time.drop([\"model\",\"mix_val\"],axis=1)\n",
    "print(edge_no_time)\n",
    "\n"
   ]
  },
  {
   "cell_type": "code",
   "execution_count": 3,
   "id": "362d295f",
   "metadata": {},
   "outputs": [
    {
     "data": {
      "text/plain": [
       "wr    0.8230\n",
       "tp    0.6338\n",
       "fp    0.0736\n",
       "fn    0.2464\n",
       "fm    0.0461\n",
       "dtype: float64"
      ]
     },
     "execution_count": 3,
     "metadata": {},
     "output_type": "execute_result"
    }
   ],
   "source": [
    "edge_no_time.mean()"
   ]
  },
  {
   "cell_type": "code",
   "execution_count": 4,
   "id": "3524e4af",
   "metadata": {},
   "outputs": [
    {
     "data": {
      "text/plain": [
       "wr    0.000667\n",
       "tp    0.003155\n",
       "fp    0.003534\n",
       "fn    0.007382\n",
       "fm    0.001197\n",
       "dtype: float64"
      ]
     },
     "execution_count": 4,
     "metadata": {},
     "output_type": "execute_result"
    }
   ],
   "source": [
    "edge_no_time.std()"
   ]
  },
  {
   "cell_type": "markdown",
   "id": "eb79afeb",
   "metadata": {},
   "source": [
    "---"
   ]
  },
  {
   "cell_type": "markdown",
   "id": "2a57525d",
   "metadata": {},
   "source": [
    "### edge_with_time"
   ]
  },
  {
   "cell_type": "code",
   "execution_count": 5,
   "id": "7d796798",
   "metadata": {},
   "outputs": [
    {
     "name": "stdout",
     "output_type": "stream",
     "text": [
      "       wr     tp     fp     fn     fm\n",
      "2   0.891  0.755  0.046  0.181  0.018\n",
      "8   0.893  0.759  0.045  0.179  0.017\n",
      "14  0.892  0.749  0.036  0.200  0.015\n",
      "20  0.892  0.746  0.032  0.208  0.015\n",
      "26  0.894  0.754  0.038  0.193  0.015\n",
      "32  0.893  0.752  0.035  0.198  0.015\n",
      "38  0.892  0.757  0.043  0.182  0.018\n",
      "44  0.892  0.753  0.039  0.192  0.016\n",
      "50  0.893  0.747  0.033  0.205  0.014\n",
      "56  0.893  0.746  0.030  0.211  0.014\n"
     ]
    }
   ],
   "source": [
    "edge_with_time = df.loc[df['model'] == \"edge_with_time\"]\n",
    "edge_with_time = edge_with_time.drop([\"model\",\"mix_val\"],axis=1)\n",
    "print(edge_with_time)\n"
   ]
  },
  {
   "cell_type": "code",
   "execution_count": 6,
   "id": "7bd5f419",
   "metadata": {},
   "outputs": [
    {
     "data": {
      "text/plain": [
       "wr    0.8925\n",
       "tp    0.7518\n",
       "fp    0.0377\n",
       "fn    0.1949\n",
       "fm    0.0157\n",
       "dtype: float64"
      ]
     },
     "execution_count": 6,
     "metadata": {},
     "output_type": "execute_result"
    }
   ],
   "source": [
    "edge_with_time.mean()"
   ]
  },
  {
   "cell_type": "code",
   "execution_count": 7,
   "id": "45252133",
   "metadata": {},
   "outputs": [
    {
     "data": {
      "text/plain": [
       "wr    0.000850\n",
       "tp    0.004638\n",
       "fp    0.005539\n",
       "fn    0.011513\n",
       "fm    0.001494\n",
       "dtype: float64"
      ]
     },
     "execution_count": 7,
     "metadata": {},
     "output_type": "execute_result"
    }
   ],
   "source": [
    "edge_with_time.std()"
   ]
  },
  {
   "cell_type": "markdown",
   "id": "e90c0032",
   "metadata": {},
   "source": [
    "---"
   ]
  },
  {
   "cell_type": "markdown",
   "id": "8648650b",
   "metadata": {},
   "source": [
    "###  Agglo + Edge"
   ]
  },
  {
   "cell_type": "code",
   "execution_count": 8,
   "id": "84ef6969",
   "metadata": {},
   "outputs": [
    {
     "name": "stdout",
     "output_type": "stream",
     "text": [
      "       wr     tp     fp     fn     fm\n",
      "3   0.911  0.817  0.051  0.118  0.014\n",
      "9   0.912  0.820  0.051  0.114  0.015\n",
      "15  0.910  0.813  0.050  0.121  0.016\n",
      "21  0.912  0.820  0.051  0.113  0.016\n",
      "27  0.911  0.816  0.050  0.118  0.016\n",
      "33  0.911  0.816  0.049  0.120  0.015\n",
      "39  0.910  0.814  0.050  0.121  0.015\n",
      "45  0.912  0.819  0.050  0.115  0.015\n",
      "51  0.912  0.817  0.051  0.117  0.015\n",
      "57  0.910  0.813  0.049  0.123  0.016\n"
     ]
    }
   ],
   "source": [
    "agglo_edge = df.loc[df['model'] == \"agglo_edge\"]\n",
    "agglo_edge = agglo_edge.drop([\"model\",\"mix_val\"],axis=1)\n",
    "print(agglo_edge)"
   ]
  },
  {
   "cell_type": "code",
   "execution_count": 9,
   "id": "93dca96d",
   "metadata": {},
   "outputs": [
    {
     "data": {
      "text/plain": [
       "wr    0.9111\n",
       "tp    0.8165\n",
       "fp    0.0502\n",
       "fn    0.1180\n",
       "fm    0.0153\n",
       "dtype: float64"
      ]
     },
     "execution_count": 9,
     "metadata": {},
     "output_type": "execute_result"
    }
   ],
   "source": [
    "agglo_edge.mean()"
   ]
  },
  {
   "cell_type": "code",
   "execution_count": 10,
   "id": "8bca01e0",
   "metadata": {},
   "outputs": [
    {
     "data": {
      "text/plain": [
       "wr    0.000876\n",
       "tp    0.002635\n",
       "fp    0.000789\n",
       "fn    0.003300\n",
       "fm    0.000675\n",
       "dtype: float64"
      ]
     },
     "execution_count": 10,
     "metadata": {},
     "output_type": "execute_result"
    }
   ],
   "source": [
    "agglo_edge.std()"
   ]
  },
  {
   "cell_type": "markdown",
   "id": "406c0c0f",
   "metadata": {},
   "source": [
    "---"
   ]
  },
  {
   "cell_type": "markdown",
   "id": "b922be6e",
   "metadata": {},
   "source": [
    "### R3B + Edge"
   ]
  },
  {
   "cell_type": "code",
   "execution_count": 11,
   "id": "aa492040",
   "metadata": {},
   "outputs": [
    {
     "name": "stdout",
     "output_type": "stream",
     "text": [
      "       wr     tp     fp     fn     fm\n",
      "4   0.823  0.677  0.088  0.163  0.073\n",
      "10  0.824  0.676  0.087  0.165  0.073\n",
      "16  0.824  0.680  0.092  0.157  0.070\n",
      "22  0.823  0.673  0.082  0.166  0.079\n",
      "28  0.824  0.677  0.088  0.160  0.075\n",
      "34  0.823  0.677  0.088  0.161  0.073\n",
      "40  0.823  0.672  0.083  0.167  0.078\n",
      "46  0.823  0.674  0.083  0.166  0.078\n",
      "52  0.824  0.680  0.091  0.158  0.070\n",
      "58  0.823  0.673  0.085  0.168  0.074\n"
     ]
    }
   ],
   "source": [
    "r3b_edge = df.loc[df['model'] == \"r3b_edge\"]\n",
    "r3b_edge = r3b_edge.drop([\"model\",\"mix_val\"],axis=1)\n",
    "print(r3b_edge)"
   ]
  },
  {
   "cell_type": "code",
   "execution_count": 12,
   "id": "c29a0993",
   "metadata": {},
   "outputs": [
    {
     "data": {
      "text/plain": [
       "wr    0.8234\n",
       "tp    0.6759\n",
       "fp    0.0867\n",
       "fn    0.1631\n",
       "fm    0.0743\n",
       "dtype: float64"
      ]
     },
     "execution_count": 12,
     "metadata": {},
     "output_type": "execute_result"
    }
   ],
   "source": [
    "r3b_edge.mean()"
   ]
  },
  {
   "cell_type": "code",
   "execution_count": 13,
   "id": "ab21d46e",
   "metadata": {},
   "outputs": [
    {
     "data": {
      "text/plain": [
       "wr    0.000516\n",
       "tp    0.002846\n",
       "fp    0.003401\n",
       "fn    0.003900\n",
       "fm    0.003199\n",
       "dtype: float64"
      ]
     },
     "execution_count": 13,
     "metadata": {},
     "output_type": "execute_result"
    }
   ],
   "source": [
    "r3b_edge.std()"
   ]
  },
  {
   "cell_type": "markdown",
   "id": "2f54cb7c",
   "metadata": {},
   "source": [
    "---"
   ]
  },
  {
   "cell_type": "markdown",
   "id": "573b7a12",
   "metadata": {},
   "source": [
    "### R3B CLASSIC"
   ]
  },
  {
   "cell_type": "code",
   "execution_count": 14,
   "id": "71491d42",
   "metadata": {},
   "outputs": [
    {
     "name": "stdout",
     "output_type": "stream",
     "text": [
      "       wr     tp     fp     fn     fm\n",
      "5   0.804  0.606  0.053  0.252  0.089\n",
      "11  0.804  0.606  0.053  0.252  0.089\n",
      "17  0.804  0.606  0.053  0.252  0.089\n",
      "23  0.804  0.606  0.053  0.252  0.089\n",
      "29  0.804  0.606  0.053  0.252  0.089\n",
      "35  0.804  0.606  0.053  0.252  0.089\n",
      "41  0.804  0.606  0.053  0.252  0.089\n",
      "47  0.804  0.606  0.053  0.252  0.089\n",
      "53  0.804  0.606  0.053  0.252  0.089\n"
     ]
    }
   ],
   "source": [
    "r3b = df.loc[df['model'] == \"r3b\"]\n",
    "r3b = r3b.drop([\"model\",\"mix_val\"],axis=1)\n",
    "print(r3b)"
   ]
  },
  {
   "cell_type": "code",
   "execution_count": 15,
   "id": "94b11507",
   "metadata": {},
   "outputs": [
    {
     "data": {
      "text/plain": [
       "wr    0.804\n",
       "tp    0.606\n",
       "fp    0.053\n",
       "fn    0.252\n",
       "fm    0.089\n",
       "dtype: float64"
      ]
     },
     "execution_count": 15,
     "metadata": {},
     "output_type": "execute_result"
    }
   ],
   "source": [
    "r3b.mean()"
   ]
  },
  {
   "cell_type": "code",
   "execution_count": null,
   "id": "851ff4f9",
   "metadata": {},
   "outputs": [],
   "source": []
  },
  {
   "cell_type": "markdown",
   "id": "62ddeacb",
   "metadata": {},
   "source": [
    "---"
   ]
  },
  {
   "cell_type": "markdown",
   "id": "fb9363db",
   "metadata": {},
   "source": [
    "### AGGLO "
   ]
  },
  {
   "cell_type": "code",
   "execution_count": 16,
   "id": "ba01eb2c",
   "metadata": {},
   "outputs": [
    {
     "name": "stdout",
     "output_type": "stream",
     "text": [
      "       wr     tp     fp    fn     fm\n",
      "0   0.841  0.628  0.033  0.32  0.019\n",
      "6   0.841  0.628  0.033  0.32  0.019\n",
      "12  0.841  0.628  0.033  0.32  0.019\n",
      "18  0.841  0.628  0.033  0.32  0.019\n",
      "24  0.841  0.628  0.033  0.32  0.019\n",
      "30  0.841  0.628  0.033  0.32  0.019\n",
      "36  0.841  0.628  0.033  0.32  0.019\n",
      "42  0.841  0.628  0.033  0.32  0.019\n",
      "48  0.841  0.628  0.033  0.32  0.019\n",
      "54  0.841  0.628  0.033  0.32  0.019\n"
     ]
    }
   ],
   "source": [
    "agglo = df.loc[df['model'] == \"agglo\"]\n",
    "agglo = agglo.drop([\"model\",\"mix_val\"],axis=1)\n",
    "print(agglo)"
   ]
  },
  {
   "cell_type": "code",
   "execution_count": 17,
   "id": "7c899661",
   "metadata": {},
   "outputs": [
    {
     "data": {
      "text/plain": [
       "wr    0.841\n",
       "tp    0.628\n",
       "fp    0.033\n",
       "fn    0.320\n",
       "fm    0.019\n",
       "dtype: float64"
      ]
     },
     "execution_count": 17,
     "metadata": {},
     "output_type": "execute_result"
    }
   ],
   "source": [
    "agglo.mean()"
   ]
  },
  {
   "cell_type": "code",
   "execution_count": null,
   "id": "232695d9",
   "metadata": {},
   "outputs": [],
   "source": []
  },
  {
   "cell_type": "markdown",
   "id": "4e7749fe",
   "metadata": {},
   "source": [
    "---"
   ]
  },
  {
   "cell_type": "markdown",
   "id": "1a85bd13",
   "metadata": {},
   "source": [
    "### ok now the according plots, for POSTER"
   ]
  },
  {
   "cell_type": "code",
   "execution_count": 27,
   "id": "718b391d",
   "metadata": {},
   "outputs": [
    {
     "data": {
      "image/png": "[encoded data removed]",
      "text/plain": [
       "<Figure size 576x1152 with 1 Axes>"
      ]
     },
     "metadata": {
      "needs_background": "light"
     },
     "output_type": "display_data"
    }
   ],
   "source": [
    "my_colors = [\"#3070b3\",\"orange\",\"#add58a\",\"#f37b70\",\"#b8937f\",\"#dc85E9\"]\n",
    "\n",
    "fig, axs = plt.subplots(figsize=(8,16))\n",
    "# Number of groups\n",
    "num_groups = 1  # Since you only want to plot the first entry of each list\n",
    "#my_colors = [\"#3070b3\",\"orange\",\"lightgreen\",\"red\",\"darkgoldenrod\",\"violet\"]\n",
    "# X-axis positions for the bars\n",
    "x = np.arange(num_groups)  # Single group at position 0\n",
    "width = 0.2  # Width of the bars\n",
    "fig.tight_layout()\n",
    "axs.bar(x - 2*width, r3b[\"tp\"], width, label='CGM',color=my_colors[0])\n",
    "axs.bar(x - width, agglo[\"tp\"], width, label='agglo',color=my_colors[1])\n",
    "axs.bar(x, edge_no_time[\"tp\"], width, label='edge w/o time',color=my_colors[2])\n",
    "axs.bar(x + width, edge_with_time[\"tp\"], width, label='edge w/ time',color=my_colors[3])\n",
    "axs.bar(x + 2*width, r3b_edge[\"tp\"], width, label='CGM+edge',color=my_colors[4])\n",
    "axs.bar(x + 3*width, agglo_edge[\"tp\"], width, label='agglo+edge',color=my_colors[5])\n",
    "axs.set_ylabel('Ratio', fontsize = 18)\n",
    "axs.set_yticks(np.arange(0,1.1,0.1))\n",
    "axs.tick_params(labelsize=18)\n",
    "axs.set_ylim(0, 1)\n",
    "axs.xaxis.set_major_locator(ticker.NullLocator())\n",
    "#axs.bar(x + width, agg_ed1_2_1[i], width, label='agglo+egde ver1')\n",
    "#axs.bar(x + 2*width, agg_ed2_2_1[i], width, label='agglo+egde ver2')\n",
    "axs.legend(fontsize=26,loc='lower right',framealpha=1)\n",
    "\n",
    "#axs.grid()\n",
    "#for i in range (2,5):\n",
    "#    axs.set_ylim(0, 0.3)\n",
    "#axs[0].set_title(\"well_reco\")\n",
    "#axs[1].set_title(\"true_positive\")\n",
    "#axs[2].set_title(\"false_positive\")\n",
    "#axs[3].set_title(\"false_negative\")\n",
    "#axs[4].set_title(\"false mixed\")\n",
    "fig.suptitle(\"True Positive\",fontsize=30,x=0.2)\n",
    "fig.tight_layout()\n",
    "plt.savefig('tp_bar.png',dpi=300)"
   ]
  },
  {
   "cell_type": "code",
   "execution_count": 19,
   "id": "84c7dafc",
   "metadata": {},
   "outputs": [
    {
     "data": {
      "image/png": "[encoded data removed]",
      "text/plain": [
       "<Figure size 576x288 with 1 Axes>"
      ]
     },
     "metadata": {
      "needs_background": "light"
     },
     "output_type": "display_data"
    }
   ],
   "source": [
    "fig, axs = plt.subplots(figsize=(8,4))\n",
    "# Number of groups\n",
    "num_groups = 1  # Since you only want to plot the first entry of each list\n",
    "#my_colors = [\"cornflowerblue\",\"orange\",\"lightgreen\",\"red\",\"darkgoldenrod\",\"violet\"]\n",
    "# X-axis positions for the bars\n",
    "x = np.arange(num_groups)  # Single group at position 0\n",
    "width = 0.2  # Width of the bars\n",
    "fig.tight_layout()\n",
    "axs.bar(x - 2*width, r3b[\"fn\"], width, label='r3b',color=my_colors[0])\n",
    "axs.bar(x - width, agglo[\"fn\"], width, label='agglo',color=my_colors[1])\n",
    "axs.bar(x, edge_no_time[\"fn\"], width, label='edge w/o time',color=my_colors[2])\n",
    "axs.bar(x + width, edge_with_time[\"fn\"], width, label='edge w/ time',color=my_colors[3])\n",
    "axs.bar(x + 2*width, r3b_edge[\"fn\"], width, label='r3b+edge',color=my_colors[4])\n",
    "axs.bar(x + 3*width, agglo_edge[\"fn\"], width, label='agglo+edge',color=my_colors[5])\n",
    "axs.set_ylabel('Ratio', fontsize = 18)\n",
    "axs.tick_params(labelsize=18)\n",
    "axs.set_ylim(0.0, 0.5)\n",
    "axs.xaxis.set_major_locator(ticker.NullLocator())\n",
    "\n",
    "#axs.legend(fontsize=23)\n",
    "fig.suptitle(\"False negative\",fontsize=30,x=0.25)\n",
    "fig.tight_layout()\n",
    "plt.savefig('fn_bar.png',dpi=300)\n",
    "\n"
   ]
  },
  {
   "cell_type": "code",
   "execution_count": 20,
   "id": "f8f5009c",
   "metadata": {},
   "outputs": [
    {
     "data": {
      "image/png": "[encoded data removed]",
      "text/plain": [
       "<Figure size 576x288 with 1 Axes>"
      ]
     },
     "metadata": {
      "needs_background": "light"
     },
     "output_type": "display_data"
    }
   ],
   "source": [
    "fig, axs = plt.subplots(figsize=(8,4))\n",
    "# Number of groups\n",
    "num_groups = 1  # Since you only want to plot the first entry of each list\n",
    "#my_colors = [\"cornflowerblue\",\"orange\",\"lightgreen\",\"red\",\"darkgoldenrod\",\"violet\"]\n",
    "# X-axis positions for the bars\n",
    "x = np.arange(num_groups)  # Single group at position 0\n",
    "width = 0.2  # Width of the bars\n",
    "fig.tight_layout()\n",
    "axs.bar(x - 2*width, r3b[\"fp\"], width, label='r3b',color=my_colors[0])\n",
    "axs.bar(x - width, agglo[\"fp\"], width, label='agglo',color=my_colors[1])\n",
    "axs.bar(x, edge_no_time[\"fp\"], width, label='edge w/o time',color=my_colors[2])\n",
    "axs.bar(x + width, edge_with_time[\"fp\"], width, label='edge w/ time',color=my_colors[3])\n",
    "axs.bar(x + 2*width, r3b_edge[\"fp\"], width, label='r3b+edge',color=my_colors[4])\n",
    "axs.bar(x + 3*width, agglo_edge[\"fp\"], width, label='agglo+edge',color=my_colors[5])\n",
    "axs.set_ylabel('Ratio', fontsize = 18)\n",
    "axs.tick_params(labelsize=18)\n",
    "axs.set_ylim(0.0, 0.5)\n",
    "axs.xaxis.set_major_locator(ticker.NullLocator())\n",
    "\n",
    "#axs.legend(fontsize=23)\n",
    "fig.suptitle(\"False positive\",fontsize=30,x=0.25)\n",
    "fig.tight_layout()\n",
    "plt.savefig('fp_bar.png',dpi=300)"
   ]
  },
  {
   "cell_type": "code",
   "execution_count": 21,
   "id": "300d1bba",
   "metadata": {},
   "outputs": [
    {
     "data": {
      "image/png": "[encoded data removed]",
      "text/plain": [
       "<Figure size 576x288 with 1 Axes>"
      ]
     },
     "metadata": {
      "needs_background": "light"
     },
     "output_type": "display_data"
    }
   ],
   "source": [
    "fig, axs = plt.subplots(figsize=(8,4))\n",
    "# Number of groups\n",
    "num_groups = 1  # Since you only want to plot the first entry of each list\n",
    "#my_colors = [\"cornflowerblue\",\"orange\",\"lightgreen\",\"red\",\"darkgoldenrod\",\"violet\"]\n",
    "# X-axis positions for the bars\n",
    "x = np.arange(num_groups)  # Single group at position 0\n",
    "width = 0.2  # Width of the bars\n",
    "fig.tight_layout()\n",
    "axs.bar(x - 2*width, r3b[\"fm\"], width, label='r3b',color=my_colors[0])\n",
    "axs.bar(x - width, agglo[\"fm\"], width, label='agglo',color=my_colors[1])\n",
    "axs.bar(x, edge_no_time[\"fm\"], width, label='edge w/o time',color=my_colors[2])\n",
    "axs.bar(x + width, edge_with_time[\"fm\"], width, label='edge w/ time',color=my_colors[3])\n",
    "axs.bar(x + 2*width, r3b_edge[\"fm\"], width, label='r3b+edge',color=my_colors[4])\n",
    "axs.bar(x + 3*width, agglo_edge[\"fm\"], width, label='agglo+edge',color=my_colors[5])\n",
    "axs.set_ylabel('Ratio', fontsize = 18)\n",
    "axs.tick_params(labelsize=18)\n",
    "axs.set_ylim(0.0, 0.5)\n",
    "axs.xaxis.set_major_locator(ticker.NullLocator())\n",
    "\n",
    "#axs.legend(fontsize=23)\n",
    "fig.suptitle(\"False mixed\",fontsize=30,x=0.25)\n",
    "fig.tight_layout()\n",
    "plt.savefig('fm_bar.png',dpi=300)"
   ]
  },
  {
   "cell_type": "code",
   "execution_count": null,
   "id": "cfadc287",
   "metadata": {},
   "outputs": [],
   "source": []
  }
 ],
 "metadata": {
  "kernelspec": {
   "display_name": "Python 3 (ipykernel)",
   "language": "python",
   "name": "python3"
  },
  "language_info": {
   "codemirror_mode": {
    "name": "ipython",
    "version": 3
   },
   "file_extension": ".py",
   "mimetype": "text/x-python",
   "name": "python",
   "nbconvert_exporter": "python",
   "pygments_lexer": "ipython3",
   "version": "3.10.12"
  }
 },
 "nbformat": 4,
 "nbformat_minor": 5
}
